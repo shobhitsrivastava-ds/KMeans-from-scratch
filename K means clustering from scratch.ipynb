{
 "cells": [
  {
   "cell_type": "code",
   "execution_count": 1,
   "metadata": {},
   "outputs": [],
   "source": [
    "import numpy as np\n",
    "import pandas as pd\n",
    "import matplotlib.pyplot as plt"
   ]
  },
  {
   "cell_type": "code",
   "execution_count": 2,
   "metadata": {},
   "outputs": [],
   "source": [
    "def load_data(name):\n",
    "    return pd.read_csv(\"name\")\n"
   ]
  },
  {
   "cell_type": "code",
   "execution_count": 8,
   "metadata": {},
   "outputs": [],
   "source": [
    "def eucledian_distance(point1,point2):\n",
    "    if(len(point1) is not len(point2)):\n",
    "        print(\"Please enter the data of the equal length\")\n",
    "    else:\n",
    "        for i in range(len(point1)):\n",
    "            distance = distance + (point1[i]-point2[i])**2\n",
    "    return(np.sqrt(distance))"
   ]
  },
  {
   "cell_type": "code",
   "execution_count": 12,
   "metadata": {},
   "outputs": [
    {
     "ename": "SyntaxError",
     "evalue": "invalid syntax (<ipython-input-12-303ad68bb98a>, line 1)",
     "output_type": "error",
     "traceback": [
      "\u001b[1;36m  File \u001b[1;32m\"<ipython-input-12-303ad68bb98a>\"\u001b[1;36m, line \u001b[1;32m1\u001b[0m\n\u001b[1;33m    def kmean(self.k,epsilon=0,distance=\"eucledian\",data_name):\u001b[0m\n\u001b[1;37m                  ^\u001b[0m\n\u001b[1;31mSyntaxError\u001b[0m\u001b[1;31m:\u001b[0m invalid syntax\n"
     ]
    }
   ],
   "source": [
    "def kmean(self.k,epsilon=0,distance=\"eucledian\",data_name):\n",
    "    #list for storing thr past centroid\n",
    "    history_centroid=[]\n",
    "    if distance == \"eucledian\" :\n",
    "        dist_method=eucledian\n",
    "    #set_and load the dataset\n",
    "    data=load_data(\"data_name\")\n",
    "    number_instance, num_feature=data.shape\n",
    "    #defining the k centroid\n",
    "    self.centroid=data[np.random.randint(0,number_instance,size=self.k)]\n",
    "    #history_centroid.append(centroid)\n",
    "    #to keep track of the centroid at every iteration\n",
    "    prototype_old=np.zeros(centroid.shape)\n",
    "    belongs_to =np.zeros((num_instance,1))\n",
    "    norm = dist_method(centroid,prototype_old)\n",
    "    iteration = 0\n",
    "    while(norm > epsilon):\n",
    "        interation +=1\n",
    "        norm= dist_method(centroid,prototype_old)\n",
    "        #for each instance in the dataset\n",
    "        for index_instance,instance in enumerate(data):\n",
    "            #define a distance vector of size(k)\n",
    "            dist_vec =np.zeros((k,1))\n",
    "            #for each entroid\n",
    "            for index_cent,centroid in enumerate(centroid):\n",
    "                #compute the distance\n",
    "                dist_vect[index_prototype] =dist_method(prototype,instance)\n",
    "            #finding the smallest distance\n",
    "            belong_to[index_instance,0] =np.argmax(dist_vect)\n",
    "        #for each cluster\n",
    "        for index in range(len(centroid)):\n",
    "            #all poits assigned to cluster\n",
    "            instace_close = [i for i in range(len(belong_to)) if belong_to[i]== index]\n",
    "            prototype = np.mean(data[instance_close],axis= 0)\n",
    "        \n",
    "             \n",
    "            \n",
    "    return centroid,belongs_to\n",
    "            \n",
    "    \n",
    "    \n",
    "    "
   ]
  },
  {
   "cell_type": "code",
   "execution_count": null,
   "metadata": {},
   "outputs": [],
   "source": []
  }
 ],
 "metadata": {
  "kernelspec": {
   "display_name": "Python 3",
   "language": "python",
   "name": "python3"
  },
  "language_info": {
   "codemirror_mode": {
    "name": "ipython",
    "version": 3
   },
   "file_extension": ".py",
   "mimetype": "text/x-python",
   "name": "python",
   "nbconvert_exporter": "python",
   "pygments_lexer": "ipython3",
   "version": "3.7.1"
  }
 },
 "nbformat": 4,
 "nbformat_minor": 2
}
